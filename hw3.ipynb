{
  "nbformat": 4,
  "nbformat_minor": 0,
  "metadata": {
    "colab": {
      "name": "hw3.ipynb",
      "provenance": []
    },
    "kernelspec": {
      "name": "python3",
      "display_name": "Python 3"
    },
    "accelerator": "GPU"
  },
  "cells": [
    {
      "cell_type": "code",
      "metadata": {
        "id": "spe4SXaOTl3U",
        "colab_type": "code",
        "colab": {}
      },
      "source": [
        "#  На компьютере нет подходящей видеокарты, так что сделано в Google Colab\n",
        "# Make sure to enable GPU (Runtime > Change runtime type > Hardware accelerator > GPU) on your notebook!"
      ],
      "execution_count": 0,
      "outputs": []
    },
    {
      "cell_type": "code",
      "metadata": {
        "id": "bZ1E-5AizzR8",
        "colab_type": "code",
        "outputId": "c243c183-575a-41d4-a4b8-f7ff2f6193af",
        "colab": {
          "base_uri": "https://localhost:8080/",
          "height": 90
        }
      },
      "source": [
        "#  Узнать версию CUDA\n",
        "!nvcc --version \n",
        "# For CUDA 8.0 pip install cupy-cuda80\n",
        "# For CUDA 9.0 pip install cupy-cuda90\n",
        "# For CUDA 9.1 pip install cupy-cuda91\n",
        "# For CUDA 9.2 pip install cupy-cuda92\n",
        "# For CUDA 10.0 pip install cupy-cuda100\n",
        "# For CUDA 10.1 pip install cupy-cuda101\n",
        "# For CUDA 10.2 pip install cupy-cuda102"
      ],
      "execution_count": 0,
      "outputs": [
        {
          "output_type": "stream",
          "text": [
            "nvcc: NVIDIA (R) Cuda compiler driver\n",
            "Copyright (c) 2005-2019 NVIDIA Corporation\n",
            "Built on Sun_Jul_28_19:07:16_PDT_2019\n",
            "Cuda compilation tools, release 10.1, V10.1.243\n"
          ],
          "name": "stdout"
        }
      ]
    },
    {
      "cell_type": "code",
      "metadata": {
        "id": "JwyVzjHFK7H8",
        "colab_type": "code",
        "outputId": "0661e7af-80f5-4398-cf1c-2055c309dd53",
        "colab": {
          "base_uri": "https://localhost:8080/",
          "height": 90
        }
      },
      "source": [
        "#  Установить CuPy, если он не установлен\n",
        "!pip install cupy-cuda101"
      ],
      "execution_count": 0,
      "outputs": [
        {
          "output_type": "stream",
          "text": [
            "Requirement already satisfied: cupy-cuda101 in /usr/local/lib/python3.6/dist-packages (6.5.0)\n",
            "Requirement already satisfied: numpy>=1.9.0 in /usr/local/lib/python3.6/dist-packages (from cupy-cuda101) (1.18.4)\n",
            "Requirement already satisfied: six>=1.9.0 in /usr/local/lib/python3.6/dist-packages (from cupy-cuda101) (1.12.0)\n",
            "Requirement already satisfied: fastrlock>=0.3 in /usr/local/lib/python3.6/dist-packages (from cupy-cuda101) (0.4)\n"
          ],
          "name": "stdout"
        }
      ]
    },
    {
      "cell_type": "code",
      "metadata": {
        "id": "YgmPRhyXIUZs",
        "colab_type": "code",
        "colab": {}
      },
      "source": [
        "#  Подключение пакетов\n",
        "import string  # работа со строками\n",
        "import time  # время, будет нужно для более аккуратной демонстрации кода\n",
        "import numpy as np  # линейная алгебра\n",
        "import cupy as cp  # работа на видеокарте"
      ],
      "execution_count": 0,
      "outputs": []
    },
    {
      "cell_type": "code",
      "metadata": {
        "id": "m2e4LUa4VdaR",
        "colab_type": "code",
        "colab": {}
      },
      "source": [
        "#  Глобальные переменные и функции\n",
        "\n",
        "#  латинский алфавит\n",
        "LATIN = [\n",
        "    'A', 'B', 'C', 'D',\n",
        "    'E', 'F', 'G', 'H',\n",
        "    'I', 'J', 'K', 'L',\n",
        "    'M', 'N', 'O', 'P',\n",
        "    'Q', 'R', 'S', 'T',\n",
        "    'U', 'V', 'W', 'X',\n",
        "    'Y', 'Z'\n",
        "]\n",
        "\n",
        "#  кириллица\n",
        "CYRILLIC = [\n",
        "    \"А\", \"Б\", \"В\", \"Г\",\n",
        "    \"Д\", \"Е\", \"Ё\", \"Ж\",\n",
        "    \"З\", \"И\", \"Й\", \"К\",\n",
        "    \"Л\", \"М\", \"Н\", \"О\",\n",
        "    \"П\", \"Р\", \"С\", \"Т\",\n",
        "    \"У\", \"Ф\", \"Х\", \"Ц\",\n",
        "    \"Ч\", \"Ш\", \"Щ\", \"Ъ\",\n",
        "    \"Ы\", \"Ь\", \"Э\", \"Ю\",\n",
        "    \"Я\"\n",
        "]\n",
        "\n",
        "\n",
        "def cypher(text, key, letters):\n",
        "    \"\"\"\n",
        "    Шифрование без видеокарты (на всякий случай)\n",
        "    \"\"\"\n",
        "    n = len(letters)  # длина алфавита\n",
        "    num_to_char = dict([(i, letters[i]) for i in range(n)])  # номер в букву\n",
        "    char_to_num = dict([(letters[i], i) for i in range(n)])  # наоборот\n",
        "    cyphered = ''  # заготовка строки со шифром\n",
        "\n",
        "    for i in range(len(text)):  # идём по буквам текста для шифрования\n",
        "        cyphered += num_to_char[(char_to_num[text[i]] +\n",
        "                                 char_to_num[key[i % len(key)]]) % n]\n",
        "        # прибавляем к порядковому номеру данной буквы порядковый номер буквы\n",
        "        # соответсвующей буквы ключа и прибавляем букву алфавита с номером\n",
        "        # равным остатку от деления полученной суммы на длину алфавита к строке\n",
        "        # зашифрованной строки\n",
        "\n",
        "    return cyphered\n",
        "\n",
        "\n",
        "def cpcypher(text, key, letters):\n",
        "    \"\"\"\n",
        "    Шифрование на видеокарте\n",
        "    \"\"\"\n",
        "    n = len(letters)  # длина алфавита\n",
        "    num_to_char = dict([(i, letters[i]) for i in range(n)])  # номер в букву\n",
        "    char_to_num = dict([(letters[i], i) for i in range(n)])  # наоборот\n",
        "\n",
        "    cycled_key = []  # пустой массив для зацикленного ключа\n",
        "    num_text = []   # пустой массив для порядковых (алфавитно) номеров букв\n",
        "\n",
        "    # идём по буквам текста для шифрования\n",
        "    for i in range(len(text)):\n",
        "        # прибавляем к порядковому номеру данной буквы порядковый номер буквы\n",
        "        # соответсвующей буквы ключа и добавляем сумму в массив\n",
        "        cycled_key.append(char_to_num[key[i % len(key)]])\n",
        "        num_text.append(char_to_num[text[i]])\n",
        "\n",
        "    cpkey = cp.array(cycled_key)  # переносим на GPU массив для ключа\n",
        "    cptext = cp.array(num_text)  # переносим на видеокарту шифр в числ. форме\n",
        "\n",
        "    # переводим из числовой формы в текстовую\n",
        "    cpcyphered = ''.join(\n",
        "        [num_to_char[i] for i in cp.asnumpy((cpkey + cptext) % n)])\n",
        "\n",
        "    return cpcyphered\n",
        "\n",
        "\n",
        "def check_alphabet(text):\n",
        "    \"\"\"\n",
        "    Проверяет, к какому алфавиту (лат. или кир.) относятся буквы в тексте.\n",
        "    Выдаёт ошибку, если буквы относятся к обоим или ни к одному.\n",
        "    Возвращает глобальную переменную с тем алфавитом, которым написан текст.\n",
        "    \"\"\"\n",
        "\n",
        "    lat = False  # булева переменная: латиница?\n",
        "    cyr = False  # булева переменная: кириллица?\n",
        "\n",
        "    for ch in text:\n",
        "        if ch in LATIN:\n",
        "            lat = True\n",
        "        if ch in CYRILLIC:\n",
        "            cyr = True\n",
        "\n",
        "    if lat == cyr:\n",
        "            raise Exception(\"С сообщением или ключём что-то не так.\\n\" +\n",
        "                            \"Не смешивайте латиницу и кириллицу.\\n\" +\n",
        "                            \"Пустые строки не принимаются.\")\n",
        "\n",
        "    return LATIN if lat else CYRILLIC\n",
        "\n",
        "\n",
        "# главная функция, собственно выполнение задания\n",
        "def main():\n",
        "\n",
        "    print(\"Напишите сообщение, которое хотите зашифровать.\\n\" +\n",
        "          \"Регистр, пробелы и знаки препинания будут проигнорированы.\\n\" +\n",
        "          \"Не смешивайте латиницу и кириллицу.\")\n",
        "\n",
        "    text = input().upper()  # всё большими буквами\n",
        "\n",
        "    # убираем лишние символы\n",
        "    text = ''.join(ch for ch in text if ch in LATIN or ch in CYRILLIC)\n",
        "\n",
        "    # Проверяем алфавит текста. Если что-то не так, будет ошибка\n",
        "    check_alphabet(text)\n",
        "\n",
        "    print(\"Принято. \" +\n",
        "          \"Теперь напишите ключ буквами того же алфавита, что и сообщение.\\n\" +\n",
        "          \"Ключ должен быть не длиннее, чем сообщение.\")\n",
        "\n",
        "    # принимаем ключ и преобразуем его к нашему виду\n",
        "    key = input().upper()\n",
        "    key = ''.join(ch for ch in key if ch in LATIN or ch in CYRILLIC)\n",
        "\n",
        "    # Проверяем алфавит ключа. Если что-то не так, будет ошибка\n",
        "    check_alphabet(key)\n",
        "\n",
        "    # проверяем длину сообщения и ключа\n",
        "    if len(key) > len(text):\n",
        "        raise Exception(\"Ключ должен быть не длиннее, чем сообщение!\")\n",
        "\n",
        "    # одновременно проверяем, что ключ и сообщение записаны одном алфавитом\n",
        "    # и записываем список с нужным алфавитом в переменную\n",
        "    letters = check_alphabet(key+text)\n",
        "\n",
        "    # пишем, что всё хорошо\n",
        "    print(\"Принято. Шифровка...\")\n",
        "\n",
        "    # результат\n",
        "    print(cpcypher(text, key, letters))\n",
        "\n",
        "\n",
        "def demo():\n",
        "    \"\"\"\n",
        "    Демонстрация с использованием примера из Википедии.\n",
        "    \"\"\"\n",
        "    # всё также, как в main(), с небольшими изменениями\n",
        "    print(\"Напишите сообщение, которое хотите зашифровать\\n\" +\n",
        "          \"Регистр, пробелы и знаки препинания будут проигнорированы.\\n\" +\n",
        "          \"Не смешивайте латиницу и кириллицу.\")\n",
        "\n",
        "    # паузы, чтобы зритель успел воспринимать информацию\n",
        "    time.sleep(8)\n",
        "\n",
        "    print(\">Attack at dawn!!\")\n",
        "    time.sleep(2)\n",
        "\n",
        "    text = \"Attack at dawn!!!\".upper()\n",
        "    text = ''.join(ch for ch in text if ch in LATIN or ch in CYRILLIC)\n",
        "\n",
        "    print(\"Принято. \" +\n",
        "          \"Теперь напишите ключ буквами того же алфавита, что и сообщение.\\n\" +\n",
        "          \"Ключ должен быть не длиннее, чем сообщение.\")\n",
        "\n",
        "    time.sleep(5)\n",
        "\n",
        "    print(\">Le mon\")\n",
        "    time.sleep(2)\n",
        "\n",
        "    key = \"Le mon\".upper()\n",
        "    key = ''.join(ch for ch in key if ch in LATIN or ch in CYRILLIC)\n",
        "\n",
        "    letters = check_alphabet(key+text)\n",
        "\n",
        "    print(\"Принято. Шифровка...\")\n",
        "    print(cpcypher(text, key, letters))\n",
        "\n",
        "\n",
        "def on_cpu(func):\n",
        "    \"\"\"\n",
        "    Обёртка функций main или demo, чтобы выполнить их на CPU\n",
        "    \"\"\"\n",
        "    print(\"Шифрование без использования видеокарты.\")\n",
        "\n",
        "    # меняем функцию с GPU на функцию с CPU\n",
        "    cpcypher = cypher\n",
        "\n",
        "    # вызывем main или demo\n",
        "    func()\n"
      ],
      "execution_count": 0,
      "outputs": []
    },
    {
      "cell_type": "code",
      "metadata": {
        "id": "CYtf9BQZo08j",
        "colab_type": "code",
        "colab": {}
      },
      "source": [
        "#  Демонстрация с использованием примера из Википедии.\n",
        "demo()"
      ],
      "execution_count": 0,
      "outputs": []
    },
    {
      "cell_type": "code",
      "metadata": {
        "id": "nRvRG0jFkuR4",
        "colab_type": "code",
        "colab": {}
      },
      "source": [
        "# Зашифровать свой текст:\n",
        "main()"
      ],
      "execution_count": 0,
      "outputs": []
    },
    {
      "cell_type": "code",
      "metadata": {
        "id": "U-5lnIs4DmTw",
        "colab_type": "code",
        "colab": {}
      },
      "source": [
        "#  Если видеокарта недоступна, то можно зашифровать и без неё.\n",
        "\n",
        "print('Демонстрация с использованием примера из Википедии.')\n",
        "on_cpu(demo)\n",
        "time.sleep(5)\n",
        "\n",
        "print('Зашифровать свой текст:')\n",
        "on_cpu(main)"
      ],
      "execution_count": 0,
      "outputs": []
    }
  ]
}